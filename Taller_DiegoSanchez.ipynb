{
 "cells": [
  {
   "cell_type": "code",
   "execution_count": null,
   "id": "15d958cf",
   "metadata": {},
   "outputs": [],
   "source": [
    "import numpy as np #importar libreria matematica\n",
    "import plotly.express as px #herramienta de plot\n",
    "import plotly.graph_objects as go"
   ]
  },
  {
   "cell_type": "markdown",
   "id": "62c28ec5",
   "metadata": {},
   "source": [
    "# Ejercicio Taller: Coyote"
   ]
  },
  {
   "cell_type": "markdown",
   "id": "853655e7",
   "metadata": {},
   "source": [
    "Mire el siguiente video\n",
    "https://youtu.be/Yq7wCqmBEbg\n",
    "\n",
    "Una pena que las leyes de la física no acompañen al coyote pero lo vamos a ayudar.\n",
    "Considere que se modela el sistema de la piedra que cae de la siguiente manera (2D):\n",
    "Un cuerpo cuadrado de b=3[m] de masa m=2000[kg] que pivota sobre la esquina (punto O). Suponga que la piedra rueda sin deslizar y que hay una fricción en la rueda con µ=0.3 ."
   ]
  },
  {
   "cell_type": "markdown",
   "id": "a7ef55e3",
   "metadata": {},
   "source": [
    "![title](imagenejercicio.png)"
   ]
  },
  {
   "cell_type": "markdown",
   "id": "86822c9c",
   "metadata": {},
   "source": [
    "Calcule:\n",
    "\n",
    "a) El ángulo al cual el cuerpo pierde contacto con la esquina (punto O) y empieza a caer.\n",
    "\n",
    "b) Realizar un gráfico de la variación de la normal con respecto al ángulo de giro.\n",
    "\n",
    "c) Realice un gráfico de la variación de la velocidad angular hasta el mismo ángulo del literal anterior.\n",
    "\n",
    "d) ¿Podría pasar lo que pasó en el video?"
   ]
  },
  {
   "cell_type": "markdown",
   "id": "34430dd7",
   "metadata": {},
   "source": [
    "## Diagrama de cuerpo libre: m"
   ]
  },
  {
   "cell_type": "markdown",
   "id": "e4cac89b",
   "metadata": {},
   "source": [
    "![title](dcl.png)"
   ]
  },
  {
   "cell_type": "markdown",
   "id": "6589ec62",
   "metadata": {},
   "source": [
    "## a) Ángulo al cual el cuerpo pierde contacto:"
   ]
  },
  {
   "cell_type": "markdown",
   "id": "ca2e97fc",
   "metadata": {},
   "source": [
    "$$ \\sum \\overrightarrow{\\tau}_{/O '}=\\frac{\\partial\\overrightarrow{H}_{/O'}}{\\partial t}+V_{m/o''}\\times{}\\overrightarrow{P}_{m/o''} $$\n",
    "\n",
    "$$ \\sum \\overrightarrow{\\tau}_{/O '}=\\frac{\\partial\\overrightarrow{H}_{/O'}}{\\partial t}$$\n",
    "\n",
    "$$\\overrightarrow{H}_{/O'}=\\begin{bmatrix}{I_{/O'}}\\end{bmatrix}\\begin{bmatrix}{\\omega_{x}}\\\\{\\omega_{y}}\\\\{\\omega_{z}}\\end{bmatrix}=I_{zz}\\overrightarrow{\\omega}_{z}=(\\frac{1}{12}m(b^2+b^2)+m\\frac{b}{4}^2)\\omega_{z}\\overrightarrow{k}=\\frac{5}{12}(2000)(3^2)\\omega_{z}\\overrightarrow{k}$$\n",
    "\n",
    "$$\\overrightarrow{H}_{/O'}=7500\\omega_{z}\\overrightarrow{k}$$\n",
    "\n",
    "$$ \\sum \\overrightarrow{\\tau}_{/O '}=\\frac{\\partial\\overrightarrow{H}_{/O'}}{\\partial t}$$\n",
    "\n",
    "$$ (mgsen(\\theta)(\\frac{b}{2})=\\frac{\\partial(7500\\omega_{z})}{\\partial t})\\overrightarrow{k}$$\n",
    "\n",
    "$$ ((2000)(9.8)sen(\\theta)(\\frac{3}{2})=7500\\alpha_{z}\\overrightarrow{k})$$\n",
    "\n",
    "$$\\overrightarrow{\\alpha_{z}}=\\frac{98}{25}sen(\\theta)[rad/s^2]\\overrightarrow{k}$$\n",
    "\n",
    "$$\\overrightarrow{\\alpha_{z}}=\\frac{\\partial(\\overrightarrow{\\omega}_{z})}{\\partial t}\\cdot{}\\frac{\\partial\\theta}{\\partial\\theta}$$\n",
    "\n",
    "$$\\overrightarrow{\\alpha_{z}}\\partial\\theta=\\overrightarrow{\\omega}_{z}\\partial\\omega$$\n",
    "\n",
    "$$\\int_0^\\theta \\overrightarrow{\\alpha_{z}}\\partial\\theta=\\int_0^\\omega \\overrightarrow{\\omega}_{z}\\partial\\omega $$\n",
    "\n",
    "$$\\int_0^\\theta \\frac{98}{25}sen(\\theta)\\overrightarrow{k}\\partial\\theta=\\frac{\\omega_{z}^2}{2}$$\n",
    "\n",
    "$$\\omega_{z}^2=\\frac{196}{25}(1-cos(\\theta))$$\n",
    "\n",
    "$$\\omega_{z}=\\sqrt{\\frac{196}{25}(1-cos(\\theta))}[rad/s]\\overrightarrow{k}$$\n",
    "\n",
    "## Aplicamos segunda ley de Newton en el eje Normal y tangencial para obtener la ecuacion de la Normal igualar a cero para el ángulo.\n",
    "\n",
    "$$\\sum F_{n}=ma_{n}$$ $$mgcos(\\theta)-N=m\\omega_{z}^2\\frac{b}{2}$$ $$19600cos(\\theta)-N=23520(1-cos(\\theta))$$ $$N=43120cos(\\theta)-23520$$ $$0=43120cos(\\theta)-23520$$ $$cos^{-1}(\\frac{23520}{43120})=\\theta$$ $$\\theta=56,94 ^{\\circ}$$\n",
    "\n",
    "## Aplicamos segunda ley de Newton en el eje tangencial para obtener la ecuacion de la fuerza de rozamiento.\n",
    "\n",
    "$$\\sum F_{t}=ma_{t}$$ $$mgsen(\\theta)-Fr=m\\alpha_{z}\\frac{b}{2}$$ $$19600sen(\\theta)-Fr=3920sen(\\theta)$$ $$Fr=7840sen(\\theta) [N]$$"
   ]
  },
  {
   "cell_type": "markdown",
   "id": "db52cb6a",
   "metadata": {},
   "source": [
    "## Ecuaciones para los gráficos.\n",
    "\n",
    "$$N=43120cos(\\theta)-23520 [N]$$ $$Fr=7840sen(\\theta) [N]$$\n"
   ]
  },
  {
   "cell_type": "markdown",
   "id": "cd21bfce",
   "metadata": {},
   "source": [
    "## b) Gráfico de la variación de la fuerza normal con respecto al ángulo de giro."
   ]
  },
  {
   "cell_type": "code",
   "execution_count": 73,
   "id": "776372d2",
   "metadata": {},
   "outputs": [
    {
     "data": {
      "image/png": "[encoded data removed]",
      "text/plain": [
       "<Figure size 432x288 with 1 Axes>"
      ]
     },
     "metadata": {
      "needs_background": "light"
     },
     "output_type": "display_data"
    }
   ],
   "source": [
    "from matplotlib import pyplot as plt\n",
    "import numpy as np\n",
    "import math \n",
    "\n",
    "o=np.arange(0,70)\n",
    "\n",
    "N=43120*np.cos((o*math.pi)/180)-23520\n",
    "\n",
    "Fr=7840*np.sin((o*math.pi)/180)\n",
    "\n",
    "plt.plot(o,N,scaley='0,20000')\n",
    "\n",
    "plt.xlabel(\"Grados\")\n",
    "\n",
    "plt.ylabel(\"Fuerza Normal [N]\")\n",
    "\n",
    "plt.show()"
   ]
  },
  {
   "cell_type": "markdown",
   "id": "04b58670",
   "metadata": {},
   "source": [
    "## c) Gráfico de la variacion de la fuerza de rozamiento con respecto al ángulo de giro."
   ]
  },
  {
   "cell_type": "code",
   "execution_count": 72,
   "id": "f396cacd",
   "metadata": {},
   "outputs": [
    {
     "data": {
      "image/png": "[encoded data removed]",
      "text/plain": [
       "<Figure size 432x288 with 1 Axes>"
      ]
     },
     "metadata": {
      "needs_background": "light"
     },
     "output_type": "display_data"
    }
   ],
   "source": [
    "from matplotlib import pyplot as plt\n",
    "import numpy as np\n",
    "import math \n",
    "\n",
    "o=np.arange(0,70)\n",
    "\n",
    "Fr=7840*np.sin((o*math.pi)/180)\n",
    "\n",
    "plt.plot(o,Fr,scaley='0,20000')\n",
    "\n",
    "plt.xlabel(\"Grados\")\n",
    "\n",
    "plt.ylabel(\"Fuerza de rozamiento [N]\")\n",
    "\n",
    "plt.show()"
   ]
  },
  {
   "cell_type": "markdown",
   "id": "db2e1085",
   "metadata": {},
   "source": [
    "# d) ¿Podría pasar lo que pasó en el video?"
   ]
  },
  {
   "cell_type": "markdown",
   "id": "96dec0de",
   "metadata": {},
   "source": [
    "Si podría pasar pero en este ejercicio en el que el apoyo esta ubicado en un eje de simetria y debe estar inclinado con un ángulo pequeño."
   ]
  }
 ],
 "metadata": {
  "kernelspec": {
   "display_name": "Python 3",
   "language": "python",
   "name": "python3"
  },
  "language_info": {
   "codemirror_mode": {
    "name": "ipython",
    "version": 3
   },
   "file_extension": ".py",
   "mimetype": "text/x-python",
   "name": "python",
   "nbconvert_exporter": "python",
   "pygments_lexer": "ipython3",
   "version": "3.8.8"
  }
 },
 "nbformat": 4,
 "nbformat_minor": 5
}
